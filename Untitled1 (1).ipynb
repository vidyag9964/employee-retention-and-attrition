{
 "cells": [
  {
   "cell_type": "code",
   "execution_count": 7,
   "id": "d9e30980-f2ac-4409-8b8d-1f78903012fa",
   "metadata": {},
   "outputs": [
    {
     "name": "stdout",
     "output_type": "stream",
     "text": [
      "Retention Status\n",
      "Retained        697\n",
      "Not Retained    697\n",
      "Name: count, dtype: int64\n"
     ]
    }
   ],
   "source": [
    "import pandas as pd\n",
    "from sklearn.utils import resample\n",
    "\n",
    "# Load your original dataset\n",
    "df = pd.read_csv(\"synthetic_employee_data_1000.csv\")\n",
    "\n",
    "# Separate the two classes\n",
    "retained = df[df['Retention Status'] == 'Retained']\n",
    "not_retained = df[df['Retention Status'] == 'Not Retained']\n",
    "\n",
    "# Upsample the minority class\n",
    "not_retained_upsampled = resample(not_retained,\n",
    "                                  replace=True,\n",
    "                                  n_samples=len(retained),\n",
    "                                  random_state=42)\n",
    "\n",
    "# Combine and shuffle the dataset\n",
    "df_balanced = pd.concat([retained, not_retained_upsampled])\n",
    "df_balanced = df_balanced.sample(frac=1, random_state=42).reset_index(drop=True)\n",
    "\n",
    "# Optional: Save the new dataset\n",
    "df_balanced.to_csv(\"balanced_employee_data.csv\", index=False)\n",
    "\n",
    "# Confirm new distribution\n",
    "print(df_balanced['Retention Status'].value_counts())\n"
   ]
  },
  {
   "cell_type": "code",
   "execution_count": null,
   "id": "f00bca26-7644-4eda-b602-1236f5907feb",
   "metadata": {},
   "outputs": [],
   "source": []
  },
  {
   "cell_type": "code",
   "execution_count": null,
   "id": "f3b58550-6298-40b1-86f8-ab2f529a312a",
   "metadata": {},
   "outputs": [],
   "source": []
  }
 ],
 "metadata": {
  "kernelspec": {
   "display_name": "Python 3.10 (Jupyter)",
   "language": "python",
   "name": "py310"
  },
  "language_info": {
   "codemirror_mode": {
    "name": "ipython",
    "version": 3
   },
   "file_extension": ".py",
   "mimetype": "text/x-python",
   "name": "python",
   "nbconvert_exporter": "python",
   "pygments_lexer": "ipython3",
   "version": "3.10.11"
  }
 },
 "nbformat": 4,
 "nbformat_minor": 5
}
